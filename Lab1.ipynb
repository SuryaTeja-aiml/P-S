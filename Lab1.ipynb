{
  "nbformat": 4,
  "nbformat_minor": 0,
  "metadata": {
    "colab": {
      "provenance": [],
      "authorship_tag": "ABX9TyOC2hrNca/VtumxzLJju+4V",
      "include_colab_link": true
    },
    "kernelspec": {
      "name": "python3",
      "display_name": "Python 3"
    },
    "language_info": {
      "name": "python"
    }
  },
  "cells": [
    {
      "cell_type": "markdown",
      "metadata": {
        "id": "view-in-github",
        "colab_type": "text"
      },
      "source": [
        "<a href=\"https://colab.research.google.com/github/SuryaTeja-aiml/P-S/blob/main/Lab1.ipynb\" target=\"_parent\"><img src=\"https://colab.research.google.com/assets/colab-badge.svg\" alt=\"Open In Colab\"/></a>"
      ]
    },
    {
      "cell_type": "markdown",
      "source": [
        "## Lab"
      ],
      "metadata": {
        "id": "d_7GEo2QdZKL"
      }
    },
    {
      "cell_type": "markdown",
      "source": [
        "1.Find the Mean of 85, 92, 78, 89, 95, 87, 90"
      ],
      "metadata": {
        "id": "_KqGyXKzPISj"
      }
    },
    {
      "cell_type": "code",
      "execution_count": 13,
      "metadata": {
        "colab": {
          "base_uri": "https://localhost:8080/"
        },
        "id": "9JObfvLOM2z9",
        "outputId": "ba224a23-10f5-4ed7-8726-b8671d0339e6"
      },
      "outputs": [
        {
          "output_type": "stream",
          "name": "stdout",
          "text": [
            "Mean of the sample data is: 88.0\n"
          ]
        }
      ],
      "source": [
        "data = [85, 92, 78, 89, 95, 87, 90]\n",
        "mean = sum(data) / len(data)\n",
        "print(\"Mean of the sample data is:\", mean)"
      ]
    },
    {
      "cell_type": "markdown",
      "source": [
        "2.The following is a frequency table giving the ages of members of a symphony orchestra for young adults.\n",
        "\n",
        "age: 15, 16, 17, 18, 19, 20\n",
        "\n",
        "frequencies: 2, 5, 11, 9, 14, 13\n",
        "\n",
        "Find the sample mean of the ages of the 54 members of the symphony.\n",
        "\n"
      ],
      "metadata": {
        "id": "AyjpZtteSU7d"
      }
    },
    {
      "cell_type": "code",
      "source": [
        "values = [15, 16, 17, 18, 19, 20]\n",
        "frequencies = [2, 5, 11, 9, 14, 13]\n",
        "sum_fx = sum(f * x for f, x in zip(frequencies, values))\n",
        "sum_f = sum(frequencies)\n",
        "mean = sum_fx / sum_f\n",
        "print(\"Mean of the class-interval frequency distribution is: \", mean)"
      ],
      "metadata": {
        "colab": {
          "base_uri": "https://localhost:8080/"
        },
        "id": "VJQKmTpeRVEw",
        "outputId": "1e06cf06-8d22-4e0f-d672-437dcee4f390"
      },
      "execution_count": 14,
      "outputs": [
        {
          "output_type": "stream",
          "name": "stdout",
          "text": [
            "Mean of the class-interval frequency distribution is:  18.24074074074074\n"
          ]
        }
      ]
    },
    {
      "cell_type": "markdown",
      "source": [
        "3.Calculate the arithmetic mean of the marks from the following table:\n",
        "\n",
        "Marks:        0-10 10-20 20-30 30-40 40-50 50-60\n",
        "\n",
        "No of Students:12    18   27    20     17    6"
      ],
      "metadata": {
        "id": "sXrjIX1NWkKS"
      }
    },
    {
      "cell_type": "code",
      "source": [
        "class_intervals = [(0, 10), (10, 20), (20, 30), (30, 40), (40, 50), (50, 60)]\n",
        "frequencies = [12, 18, 27, 20, 17, 6]\n",
        "midpoints = [(start + end) / 2 for start, end in class_intervals ]\n",
        "sum_fx = sum(f * x for f, x in zip(frequencies, midpoints))\n",
        "sum_f = sum(frequencies)\n",
        "mean = sum_fx / sum_f\n",
        "print(\"Mean of the class-interval frequency distribution is:\", mean)"
      ],
      "metadata": {
        "colab": {
          "base_uri": "https://localhost:8080/"
        },
        "id": "CRQ2-MGVVISF",
        "outputId": "9ff8e648-8b69-4c41-bbfc-dde109fc2295"
      },
      "execution_count": null,
      "outputs": [
        {
          "output_type": "stream",
          "name": "stdout",
          "text": [
            "Mean of the class-interval frequency distribution is: 28.0\n"
          ]
        }
      ]
    },
    {
      "cell_type": "markdown",
      "source": [
        "4.Find the Median of the data\n",
        "3, 13, 7, 5, 21, 23, 39, 23, 40, 23, 14, 12, 56, 23, 29"
      ],
      "metadata": {
        "id": "hA2jPjpKU567"
      }
    },
    {
      "cell_type": "code",
      "source": [
        "data = [3, 13, 7, 5, 21, 23, 39, 23, 40, 23, 14, 12, 56, 23, 29]\n",
        "data_sorted = sorted(data)\n",
        "print(\"Sorted data: \", data_sorted)\n",
        "middle_index = len(data_sorted) // 2\n",
        "print(\"middle_index: \", middle_index)\n",
        "median = data_sorted[middle_index]\n",
        "print(\"Median of the sample data is:\", median)"
      ],
      "metadata": {
        "colab": {
          "base_uri": "https://localhost:8080/"
        },
        "id": "nBaRrGh0YsPY",
        "outputId": "403ad1fe-f657-483b-b215-714cc327d36b"
      },
      "execution_count": null,
      "outputs": [
        {
          "output_type": "stream",
          "name": "stdout",
          "text": [
            "Sorted data:  [3, 5, 7, 12, 13, 14, 21, 23, 23, 23, 23, 29, 39, 40, 56]\n",
            "middle_index:  7\n",
            "Median of the sample data is: 23\n"
          ]
        }
      ]
    },
    {
      "cell_type": "markdown",
      "source": [
        "5.Find the Median of 3, 13, 7, 5, 21, 23, 23, 40, 23, 14, 12, 56, 23, 29"
      ],
      "metadata": {
        "id": "zdAp5FKKaydz"
      }
    },
    {
      "cell_type": "code",
      "source": [
        "data = [3, 13, 7, 5, 21, 23, 23, 40, 23, 14, 12, 56, 23, 29]\n",
        "data_sorted = sorted(data)\n",
        "print(\"Sorted data: \", data_sorted)\n",
        "middle_index1 = len(data_sorted) // 2 - 1\n",
        "middle_index2 = len(data_sorted) // 2\n",
        "print(\"middle_index1: \", middle_index1)\n",
        "print(\"middle_index2: \", middle_index2)\n",
        "median = (data_sorted[middle_index1] + data_sorted[middle_index2]) / 2\n",
        "print(\"Median of the sample data is:\", median)"
      ],
      "metadata": {
        "colab": {
          "base_uri": "https://localhost:8080/"
        },
        "id": "_MBQOMkudN4I",
        "outputId": "4ae04517-2242-4e0d-a2af-be0db2c62152"
      },
      "execution_count": null,
      "outputs": [
        {
          "output_type": "stream",
          "name": "stdout",
          "text": [
            "Sorted data:  [3, 5, 7, 12, 13, 14, 21, 23, 23, 23, 23, 29, 40, 56]\n",
            "middle_index1:  6\n",
            "middle_index2:  7\n",
            "Median of the sample data is: 22.0\n"
          ]
        }
      ]
    },
    {
      "cell_type": "markdown",
      "source": [
        "6.Given the following data: class boundaries 15-25, 25-35, 35-45, 45-55, 55-65, and 65-75, with corresponding frequencies of 4, 11, 19, 14, 0, and 2, calculate the median and the median class."
      ],
      "metadata": {
        "id": "58T0tjOQbctP"
      }
    },
    {
      "cell_type": "code",
      "source": [
        "class_boundaries = [(15, 25), (25, 35), (35, 45), (45, 55), (55, 65), (65, 75)]\n",
        "frequencies = [4, 11, 19, 14, 0, 2]\n",
        "cumulative_frequency = []\n",
        "cf = 0\n",
        "for f in frequencies:\n",
        "    cf += f\n",
        "    cumulative_frequency.append(cf)\n",
        "total_frequency = cumulative_frequency[-1]\n",
        "median_position = total_frequency / 2\n",
        "median_class_index = next(i for i, cf in enumerate(cumulative_frequency) if cf >= median_position)\n",
        "L = class_boundaries[median_class_index][0]\n",
        "CF = cumulative_frequency[median_class_index - 1] if median_class_index > 0 else 0\n",
        "f = frequencies[median_class_index]\n",
        "h = class_boundaries[median_class_index][1] - class_boundaries[median_class_index][0]\n",
        "median = L + ((median_position - CF) / f) * h\n",
        "print(f\"Median Class: {class_boundaries[median_class_index]}\")\n",
        "print(f\"Median: {median:.2f}\")"
      ],
      "metadata": {
        "colab": {
          "base_uri": "https://localhost:8080/"
        },
        "id": "9x6evpgyfMHQ",
        "outputId": "8be9ba32-67ff-4012-e595-b655b5f1cacd"
      },
      "execution_count": 15,
      "outputs": [
        {
          "output_type": "stream",
          "name": "stdout",
          "text": [
            "Median Class: (35, 45)\n",
            "Median: 40.26\n"
          ]
        }
      ]
    },
    {
      "cell_type": "markdown",
      "source": [
        "##Exercises"
      ],
      "metadata": {
        "id": "5vTFEVHNdcLk"
      }
    },
    {
      "cell_type": "markdown",
      "source": [
        "The marks obtained by 62 students in English are distributed as follows:\n",
        "\n",
        "5 students scored between 10 and 19.\n",
        "\n",
        "8 students scored between 20 and 29.\n",
        "\n",
        "14 students scored between 30 and 39.\n",
        "\n",
        "20 students scored between 40 and 49.\n",
        "\n",
        "11 students scored between 50 and 59.\n",
        "\n",
        "4 students scored between 60 and 69.\n",
        "\n",
        "Compute the median class and the median.\n",
        "\n",
        "Note: The class intervals must be in continuous form when calculating the median for a grouped frequency distribution."
      ],
      "metadata": {
        "id": "z7YE7B_WfIMy"
      }
    },
    {
      "cell_type": "code",
      "source": [
        "marks = [10, 20, 30, 40, 50, 60]\n",
        "frequencies = [5, 8, 14, 20, 11, 4]\n",
        "N = sum(frequencies)\n",
        "cumulative_frequencies = []\n",
        "cumulative_sum = 0\n",
        "for freq in frequencies:\n",
        "    cumulative_sum += freq\n",
        "    cumulative_frequencies.append(cumulative_sum)\n",
        "median_position = N / 2\n",
        "for i, cf in enumerate(cumulative_frequencies):\n",
        "    if cf >= median_position:\n",
        "        median_class_index = i\n",
        "        break\n",
        "L = marks[median_class_index]\n",
        "f = frequencies[median_class_index]\n",
        "cf_previous = cumulative_frequencies[median_class_index - 1] if median_class_index > 0 else 0\n",
        "h = 10\n",
        "median = L + ((median_position - cf_previous) / f) * h\n",
        "print(f\"Median Class: {L}-{L + h}\")\n",
        "print(f\"Median: {median:.2f}\")"
      ],
      "metadata": {
        "colab": {
          "base_uri": "https://localhost:8080/"
        },
        "id": "e_u9xcYifKQ9",
        "outputId": "9b7b0817-19b5-48e4-ebe4-e2030abb7500"
      },
      "execution_count": 16,
      "outputs": [
        {
          "output_type": "stream",
          "name": "stdout",
          "text": [
            "Median Class: 40-50\n",
            "Median: 42.00\n"
          ]
        }
      ]
    }
  ]
}